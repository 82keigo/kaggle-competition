{
 "cells": [
  {
   "cell_type": "code",
   "execution_count": 1,
   "id": "6ce817e9-7ea5-408c-94e7-01a746f0dac9",
   "metadata": {
    "tags": []
   },
   "outputs": [
    {
     "name": "stdout",
     "output_type": "stream",
     "text": [
      "Downloading commonlit-evaluate-student-summaries.zip to /Users/hisanagakeigo/Downloads/kaggle-competition/CommonLit_Evaluate_Student_Summaries\n",
      " 95%|████████████████████████████████████▏ | 1.00M/1.05M [00:00<00:00, 1.55MB/s]\n",
      "100%|██████████████████████████████████████| 1.05M/1.05M [00:00<00:00, 1.62MB/s]\n"
     ]
    }
   ],
   "source": [
    "!kaggle competitions download -c commonlit-evaluate-student-summaries -p /Users/hisanagakeigo/Downloads/kaggle-competition/CommonLit_Evaluate_Student_Summaries"
   ]
  },
  {
   "cell_type": "code",
   "execution_count": null,
   "id": "60cbe5cd-a0c0-40a8-9036-ef5c0e0342c0",
   "metadata": {},
   "outputs": [],
   "source": []
  }
 ],
 "metadata": {
  "kernelspec": {
   "display_name": "Python 3 (ipykernel)",
   "language": "python",
   "name": "python3"
  },
  "language_info": {
   "codemirror_mode": {
    "name": "ipython",
    "version": 3
   },
   "file_extension": ".py",
   "mimetype": "text/x-python",
   "name": "python",
   "nbconvert_exporter": "python",
   "pygments_lexer": "ipython3",
   "version": "3.11.4"
  }
 },
 "nbformat": 4,
 "nbformat_minor": 5
}
